{
 "cells": [
  {
   "cell_type": "code",
   "execution_count": 1,
   "metadata": {},
   "outputs": [],
   "source": [
    "import cv2 as cv\n",
    "import os\n",
    "from gtts import gTTS\n",
    "import tensorflow as tf\n",
    "import numpy as np # linear algebra\n",
    "import matplotlib.pyplot as plt\n",
    "import pandas as pd # data processing, CSV file I/O (e.g. pd.read_csv)\n",
    "from keras.models import Sequential"
   ]
  },
  {
   "cell_type": "code",
   "execution_count": 2,
   "metadata": {},
   "outputs": [
    {
     "name": "stdout",
     "output_type": "stream",
     "text": [
      "Model: \"sequential_1\"\n",
      "_________________________________________________________________\n",
      " Layer (type)                Output Shape              Param #   \n",
      "=================================================================\n",
      " conv2d_3 (Conv2D)           (None, 26, 26, 32)        320       \n",
      "                                                                 \n",
      " activation_5 (Activation)   (None, 26, 26, 32)        0         \n",
      "                                                                 \n",
      " max_pooling2d_3 (MaxPooling  (None, 13, 13, 32)       0         \n",
      " 2D)                                                             \n",
      "                                                                 \n",
      " conv2d_4 (Conv2D)           (None, 11, 11, 32)        9248      \n",
      "                                                                 \n",
      " activation_6 (Activation)   (None, 11, 11, 32)        0         \n",
      "                                                                 \n",
      " max_pooling2d_4 (MaxPooling  (None, 5, 5, 32)         0         \n",
      " 2D)                                                             \n",
      "                                                                 \n",
      " conv2d_5 (Conv2D)           (None, 3, 3, 64)          18496     \n",
      "                                                                 \n",
      " activation_7 (Activation)   (None, 3, 3, 64)          0         \n",
      "                                                                 \n",
      " max_pooling2d_5 (MaxPooling  (None, 1, 1, 64)         0         \n",
      " 2D)                                                             \n",
      "                                                                 \n",
      " flatten_1 (Flatten)         (None, 64)                0         \n",
      "                                                                 \n",
      " dense_2 (Dense)             (None, 1024)              66560     \n",
      "                                                                 \n",
      " activation_8 (Activation)   (None, 1024)              0         \n",
      "                                                                 \n",
      " dropout_1 (Dropout)         (None, 1024)              0         \n",
      "                                                                 \n",
      " dense_3 (Dense)             (None, 25)                25625     \n",
      "                                                                 \n",
      " activation_9 (Activation)   (None, 25)                0         \n",
      "                                                                 \n",
      "=================================================================\n",
      "Total params: 120,249\n",
      "Trainable params: 120,249\n",
      "Non-trainable params: 0\n",
      "_________________________________________________________________\n"
     ]
    }
   ],
   "source": [
    "model=tf.keras.models.load_model('saved_model')\n",
    "model.summary()"
   ]
  },
  {
   "cell_type": "code",
   "execution_count": 5,
   "metadata": {},
   "outputs": [],
   "source": [
    "def orient(image):                    #Takes RGB image as input\n",
    "    image=cv.resize(image,(28,28))\n",
    "    gray=cv.cvtColor(image,cv.COLOR_BGR2GRAY)\n",
    "    new_image=[]\n",
    "    for rows in gray:\n",
    "        row=[]\n",
    "        for pixel in rows:\n",
    "            value=[pixel]\n",
    "            row.append(value)\n",
    "        new_image.append(row)                \n",
    "    test_image=np.array(new_image)\n",
    "    test_image=tf.expand_dims(test_image,0)\n",
    "    return test_image\n",
    "\n",
    "ref={\n",
    "    0:'A',1:'B',2:'C',3:'D',4:'E',5:'F',\n",
    "    6:'G',7:'H',8:'I',9:'J',10:'K',11:'L',\n",
    "    12:'M',13:'N',14:'O',15:'P',16:'Q',\n",
    "    17:'R',18:'S',19:'T',20:'U',21:'V',\n",
    "    22:'W',23:'X',24:'Y'\n",
    "}\n",
    "\n",
    "def text_to_speech(text):\n",
    "    print(\"Text is:\",text)\n",
    "    language='en'\n",
    "    output=gTTS(text=text,lang=language)\n",
    "    saved_audio=output.save(\"output.mp3\")\n",
    "    voice=os.system(\"start output.mp3\")\n",
    "    return 0\n",
    "\n",
    "\n",
    "\n",
    "def Capture_from_webcam():\n",
    "    cam=cv.VideoCapture(0)\n",
    "    mystr=''\n",
    "    count=1\n",
    "    while (cam.isOpened()):\n",
    "        ret,frame=cam.read()\n",
    "        rect=cv.rectangle(frame, (30,100),(230,300),(0,255,0),thickness=2)\n",
    "        img=rect[102:298 , 32:228]\n",
    "        cv.imshow(\"Space to capture and Esc to quit window: \",frame[:,::-1])\n",
    "        k=cv.waitKey(1)\n",
    "        if k%256==27:\n",
    "            break\n",
    "        elif cv.waitKey(1) & 0xFF == ord('s'):\n",
    "            mystr+=\" \"\n",
    "        elif k%256==32:\n",
    "            im_name=\"img_{}.png\".format(count)\n",
    "            count+=1\n",
    "            cv.imwrite('test_images/'+im_name,img)\n",
    "            img=orient(img[:-1])\n",
    "            predict = model.predict(img)\n",
    "            key=np.argmax(predict.astype('int'))\n",
    "            mystr+=str(ref[key])\n",
    "    cam.release()\n",
    "    cv.destroyAllWindows()\n",
    "    return text_to_speech(mystr)"
   ]
  },
  {
   "cell_type": "code",
   "execution_count": 6,
   "metadata": {},
   "outputs": [
    {
     "name": "stdout",
     "output_type": "stream",
     "text": [
      "Text is: LCLO  OQ\n"
     ]
    }
   ],
   "source": [
    "result = Capture_from_webcam()"
   ]
  },
  {
   "cell_type": "code",
   "execution_count": null,
   "metadata": {},
   "outputs": [],
   "source": []
  },
  {
   "cell_type": "code",
   "execution_count": null,
   "metadata": {},
   "outputs": [],
   "source": []
  },
  {
   "cell_type": "code",
   "execution_count": null,
   "metadata": {},
   "outputs": [],
   "source": []
  },
  {
   "cell_type": "code",
   "execution_count": null,
   "metadata": {},
   "outputs": [],
   "source": []
  },
  {
   "cell_type": "code",
   "execution_count": null,
   "metadata": {},
   "outputs": [],
   "source": []
  },
  {
   "cell_type": "code",
   "execution_count": null,
   "metadata": {},
   "outputs": [],
   "source": []
  },
  {
   "cell_type": "code",
   "execution_count": null,
   "metadata": {},
   "outputs": [],
   "source": []
  },
  {
   "cell_type": "code",
   "execution_count": null,
   "metadata": {},
   "outputs": [],
   "source": []
  },
  {
   "cell_type": "code",
   "execution_count": null,
   "metadata": {},
   "outputs": [],
   "source": []
  }
 ],
 "metadata": {
  "kernelspec": {
   "display_name": "Python 3",
   "language": "python",
   "name": "python3"
  },
  "language_info": {
   "codemirror_mode": {
    "name": "ipython",
    "version": 3
   },
   "file_extension": ".py",
   "mimetype": "text/x-python",
   "name": "python",
   "nbconvert_exporter": "python",
   "pygments_lexer": "ipython3",
   "version": "3.7.9"
  }
 },
 "nbformat": 4,
 "nbformat_minor": 4
}
